{
  "nbformat": 4,
  "nbformat_minor": 0,
  "metadata": {
    "colab": {
      "provenance": [],
      "authorship_tag": "ABX9TyNr5KgtFMcsv89MAA9I7xxT",
      "include_colab_link": true
    },
    "kernelspec": {
      "name": "python3",
      "display_name": "Python 3"
    },
    "language_info": {
      "name": "python"
    }
  },
  "cells": [
    {
      "cell_type": "markdown",
      "metadata": {
        "id": "view-in-github",
        "colab_type": "text"
      },
      "source": [
        "<a href=\"https://colab.research.google.com/github/pakeertana/StudentCareerChatBot/blob/main/ChatBot.ipynb\" target=\"_parent\"><img src=\"https://colab.research.google.com/assets/colab-badge.svg\" alt=\"Open In Colab\"/></a>"
      ]
    },
    {
      "cell_type": "code",
      "source": [
        "!pip install -q google-generativeai gradio pillow\n",
        "\n",
        "import google.generativeai as genai\n",
        "import gradio as gr\n",
        "from google.colab import userdata\n",
        "\n",
        "# Configure Gemini with your API Key\n",
        "GOOGLE_API_KEY = userdata.get(\"GOOGLE_API_KEY\")\n",
        "genai.configure(api_key=GOOGLE_API_KEY)\n",
        "\n",
        "# Load the Gemini model\n",
        "model = genai.GenerativeModel(model_name=\"gemini-2.5-flash\")\n",
        "chat = model.start_chat(history=[])\n",
        "\n",
        "# System prompt to restrict domain to career guidance\n",
        "system_prompt = \"\"\"\n",
        "You are CareerBot, an AI assistant designed strictly to help engineering and management students with career guidance.\n",
        "\n",
        "Your tasks include:\n",
        "- Career paths after B.Tech, MBA, MCA, etc.\n",
        "- Resume building, job roles, and trending industry skills\n",
        "- Higher studies (MS, M.Tech, MBA, etc.)\n",
        "- Competitive exams (GATE, GRE, CAT, etc.)\n",
        "- Interview preparation and relevant online courses\n",
        "\n",
        " Do NOT answer questions that are unrelated to careers, such as:\n",
        "- Food, entertainment, jokes, or general trivia\n",
        "- Personal, financial, or medical advice\n",
        "- Historical, political, or unrelated academic topics\n",
        "\n",
        "If the user's question is off-topic, respond with:\n",
        "\"I'm here to help only with career-related questions. Please ask something related to your education or career plans.\"\n",
        "\n",
        "Always stay on topic and be concise, professional, and helpful.\n",
        "\"\"\"\n",
        "\n",
        "# Add system instructions to chat history\n",
        "chat.history.append({\"role\": \"user\", \"parts\": [system_prompt]})\n",
        "\n",
        "# Keywords to identify off-topic questions\n",
        "off_topic_keywords = [\n",
        "    \"dosa\", \"joke\", \"weather\", \"recipe\", \"food\", \"game\",\n",
        "    \"cricket\", \"politics\", \"history\", \"health\", \"medicine\", \"finance\",\n",
        "    \"sports\", \"movie\", \"festival\", \"holiday\", \"music\", \"song\"\n",
        "]\n",
        "\n",
        "# Chat function with topic filter\n",
        "def career_chatbot(user_input, history):\n",
        "    if any(keyword in user_input.lower() for keyword in off_topic_keywords):\n",
        "        return \"I'm here to help only with career-related questions. Please ask something related to your education or career plans.\"\n",
        "\n",
        "    try:\n",
        "        response = chat.send_message(user_input)\n",
        "        return response.text\n",
        "    except Exception as e:\n",
        "        return f\"Error: {str(e)}\"\n",
        "\n",
        "# Launch Gradio interface\n",
        "gr.ChatInterface(\n",
        "    fn=career_chatbot,\n",
        "    title=\"🎓 Student Career Assistant Chatbot\",\n",
        "    theme=\"default\"\n",
        ").launch(share=True, debug=True)\n"
      ],
      "metadata": {
        "colab": {
          "base_uri": "https://localhost:8080/",
          "height": 646
        },
        "id": "yi0iQsCEzAhW",
        "outputId": "32b45371-3a88-4230-bfae-71242705347d"
      },
      "execution_count": null,
      "outputs": [
        {
          "output_type": "stream",
          "name": "stderr",
          "text": [
            "/usr/local/lib/python3.11/dist-packages/gradio/chat_interface.py:345: UserWarning: The 'tuples' format for chatbot messages is deprecated and will be removed in a future version of Gradio. Please set type='messages' instead, which uses openai-style 'role' and 'content' keys.\n",
            "  self.chatbot = Chatbot(\n"
          ]
        },
        {
          "output_type": "stream",
          "name": "stdout",
          "text": [
            "Colab notebook detected. This cell will run indefinitely so that you can see errors and logs. To turn off, set debug=False in launch().\n",
            "* Running on public URL: https://3cc5bc383dcb8acbd4.gradio.live\n",
            "\n",
            "This share link expires in 1 week. For free permanent hosting and GPU upgrades, run `gradio deploy` from the terminal in the working directory to deploy to Hugging Face Spaces (https://huggingface.co/spaces)\n"
          ]
        },
        {
          "output_type": "display_data",
          "data": {
            "text/plain": [
              "<IPython.core.display.HTML object>"
            ],
            "text/html": [
              "<div><iframe src=\"https://3cc5bc383dcb8acbd4.gradio.live\" width=\"100%\" height=\"500\" allow=\"autoplay; camera; microphone; clipboard-read; clipboard-write;\" frameborder=\"0\" allowfullscreen></iframe></div>"
            ]
          },
          "metadata": {}
        }
      ]
    },
    {
      "cell_type": "code",
      "source": [],
      "metadata": {
        "id": "Vte8kfMf10IS"
      },
      "execution_count": null,
      "outputs": []
    }
  ]
}
