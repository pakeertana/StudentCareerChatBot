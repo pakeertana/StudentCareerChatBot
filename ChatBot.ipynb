{
  "nbformat": 4,
  "nbformat_minor": 0,
  "metadata": {
    "colab": {
      "provenance": [],
      "authorship_tag": "ABX9TyMj4C/2/OE0e0nQ9DghUwNP",
      "include_colab_link": true
    },
    "kernelspec": {
      "name": "python3",
      "display_name": "Python 3"
    },
    "language_info": {
      "name": "python"
    }
  },
  "cells": [
    {
      "cell_type": "markdown",
      "metadata": {
        "id": "view-in-github",
        "colab_type": "text"
      },
      "source": [
        "<a href=\"https://colab.research.google.com/github/pakeertana/StudentCareerChatBot/blob/main/ChatBot.ipynb\" target=\"_parent\"><img src=\"https://colab.research.google.com/assets/colab-badge.svg\" alt=\"Open In Colab\"/></a>"
      ]
    },
    {
      "cell_type": "code",
      "source": [
        "!pip install -q google-generativeai gradio pillow\n",
        "\n",
        "import google.generativeai as genai\n",
        "import gradio as gr\n",
        "from google.colab import userdata\n",
        "\n",
        "# Configure Gemini with your API Key\n",
        "GOOGLE_API_KEY = userdata.get(\"GOOGLE_API_KEY\")\n",
        "genai.configure(api_key=GOOGLE_API_KEY)\n",
        "\n",
        "# Load the model\n",
        "model = genai.GenerativeModel(model_name=\"gemini-2.5-flash\")\n",
        "chat = model.start_chat(history=[])\n",
        "\n",
        "# System instructions (prompt)\n",
        "system_prompt = \"\"\"\n",
        "You are CareerBot, a smart and friendly AI career assistant for engineering and management students. Help users explore:\n",
        "\n",
        "- Career paths after B.Tech, MBA, MCA, etc.\n",
        "- Resume tips, job roles, and trending skills\n",
        "- Higher studies (MS, M.Tech, MBA, etc.)\n",
        "- Competitive exams (GATE, GRE, CAT, etc.)\n",
        "- Interview preparation and online courses\n",
        "\n",
        "Be clear, concise, helpful, and realistic. Don't guess or give personal/financial advice.\n",
        "\"\"\"\n",
        "\n",
        "# Add system prompt as first message in history\n",
        "chat.history.append({\"role\": \"user\", \"parts\": [system_prompt]})\n",
        "\n",
        "# Chat function\n",
        "def career_chatbot(user_input, history):\n",
        "    try:\n",
        "        response = chat.send_message(user_input)\n",
        "        return response.text\n",
        "    except Exception as e:\n",
        "        return f\"Error: {str(e)}\"\n",
        "\n",
        "# Launch Gradio chat interface\n",
        "gr.ChatInterface(\n",
        "    fn=career_chatbot,\n",
        "    title=\"🎓 Student Career Assistant Chatbot\",\n",
        "    theme=\"default\"\n",
        ").launch(share=True, debug=True)\n"
      ],
      "metadata": {
        "colab": {
          "base_uri": "https://localhost:8080/",
          "height": 646
        },
        "id": "yi0iQsCEzAhW",
        "outputId": "5e1c97a9-dba8-409b-8318-22b0647d3f34"
      },
      "execution_count": null,
      "outputs": [
        {
          "output_type": "stream",
          "name": "stderr",
          "text": [
            "/usr/local/lib/python3.11/dist-packages/gradio/chat_interface.py:345: UserWarning: The 'tuples' format for chatbot messages is deprecated and will be removed in a future version of Gradio. Please set type='messages' instead, which uses openai-style 'role' and 'content' keys.\n",
            "  self.chatbot = Chatbot(\n"
          ]
        },
        {
          "output_type": "stream",
          "name": "stdout",
          "text": [
            "Colab notebook detected. This cell will run indefinitely so that you can see errors and logs. To turn off, set debug=False in launch().\n",
            "* Running on public URL: https://9cddafc66b304ffce8.gradio.live\n",
            "\n",
            "This share link expires in 1 week. For free permanent hosting and GPU upgrades, run `gradio deploy` from the terminal in the working directory to deploy to Hugging Face Spaces (https://huggingface.co/spaces)\n"
          ]
        },
        {
          "output_type": "display_data",
          "data": {
            "text/plain": [
              "<IPython.core.display.HTML object>"
            ],
            "text/html": [
              "<div><iframe src=\"https://9cddafc66b304ffce8.gradio.live\" width=\"100%\" height=\"500\" allow=\"autoplay; camera; microphone; clipboard-read; clipboard-write;\" frameborder=\"0\" allowfullscreen></iframe></div>"
            ]
          },
          "metadata": {}
        }
      ]
    },
    {
      "cell_type": "code",
      "source": [],
      "metadata": {
        "id": "Vte8kfMf10IS"
      },
      "execution_count": null,
      "outputs": []
    }
  ]
}